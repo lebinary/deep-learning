{
 "cells": [
  {
   "cell_type": "code",
   "execution_count": 42,
   "metadata": {},
   "outputs": [
    {
     "name": "stdout",
     "output_type": "stream",
     "text": [
      "tensor([2.5197, 3.1142, 1.6322])\n",
      "tensor(2)\n"
     ]
    }
   ],
   "source": [
    "import torch\n",
    "\n",
    "X = torch.randn(3 ,4)\n",
    "x = torch.randn(4)\n",
    "\n",
    "dis = torch.linalg.norm(X-x, dim=1)\n",
    "print(dis)\n",
    "min_idx = torch.argmin(dis, dim=0)\n",
    "print(min_idx.item())\n",
    "# min_dis = torch.topk(dis.flatten(), 2, largest=False)\n",
    "# print(min_dis)\n"
   ]
  },
  {
   "cell_type": "code",
   "execution_count": null,
   "metadata": {},
   "outputs": [],
   "source": []
  }
 ],
 "metadata": {
  "language_info": {
   "name": "python"
  }
 },
 "nbformat": 4,
 "nbformat_minor": 2
}
