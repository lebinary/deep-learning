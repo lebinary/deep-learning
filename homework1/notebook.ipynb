{
 "cells": [
  {
   "cell_type": "code",
   "execution_count": 1,
   "id": "9535405d",
   "metadata": {},
   "outputs": [
    {
     "name": "stdout",
     "output_type": "stream",
     "text": [
      "1.13.1\n"
     ]
    }
   ],
   "source": [
    "import time\n",
    "\n",
    "import torch\n",
    "\n",
    "print(torch.__version__)"
   ]
  },
  {
   "cell_type": "code",
   "execution_count": 4,
   "id": "0a968002",
   "metadata": {},
   "outputs": [
    {
     "name": "stdout",
     "output_type": "stream",
     "text": [
      "tensor([1, 2, 3, 4, 5])\n"
     ]
    }
   ],
   "source": [
    "x = [1, 2, 3, 4, 5]\n",
    "x = torch.as_tensor(x)\n",
    "print(x)"
   ]
  },
  {
   "cell_type": "code",
   "execution_count": 5,
   "id": "137d6a0c",
   "metadata": {},
   "outputs": [
    {
     "name": "stdout",
     "output_type": "stream",
     "text": [
      "tensor([[0., 0., 0., 0.],\n",
      "        [0., 0., 0., 0.],\n",
      "        [0., 0., 0., 0.]])\n"
     ]
    }
   ],
   "source": [
    "x = torch.zeros(3, 4)\n",
    "print(x)"
   ]
  },
  {
   "cell_type": "code",
   "execution_count": 6,
   "id": "5827473e",
   "metadata": {},
   "outputs": [
    {
     "name": "stdout",
     "output_type": "stream",
     "text": [
      "tensor([[1., 1., 1., 1.],\n",
      "        [1., 1., 1., 1.],\n",
      "        [1., 1., 1., 1.]])\n"
     ]
    }
   ],
   "source": [
    "x = torch.ones(3, 4)\n",
    "print(x)"
   ]
  },
  {
   "cell_type": "code",
   "execution_count": 7,
   "id": "c0bdd951",
   "metadata": {},
   "outputs": [
    {
     "name": "stdout",
     "output_type": "stream",
     "text": [
      "tensor([[2, 2, 2, 2],\n",
      "        [2, 2, 2, 2],\n",
      "        [2, 2, 2, 2]])\n"
     ]
    }
   ],
   "source": [
    "x = torch.full((3, 4), fill_value=2)\n",
    "print(x)"
   ]
  },
  {
   "cell_type": "code",
   "execution_count": 8,
   "id": "eed74aea",
   "metadata": {},
   "outputs": [
    {
     "name": "stdout",
     "output_type": "stream",
     "text": [
      "tensor([[ 0.6582, -1.6079,  0.0567,  0.7137],\n",
      "        [ 2.1672, -1.2232, -0.2838, -0.8129],\n",
      "        [-1.3934,  0.7632,  0.5453, -2.0767]])\n"
     ]
    }
   ],
   "source": [
    "x = torch.randn(3, 4)\n",
    "print(x)"
   ]
  },
  {
   "cell_type": "code",
   "execution_count": 9,
   "id": "580f4a1c",
   "metadata": {},
   "outputs": [
    {
     "name": "stdout",
     "output_type": "stream",
     "text": [
      "tensor([[0., 0., 0., 0.],\n",
      "        [0., 0., 0., 0.],\n",
      "        [0., 0., 0., 0.]])\n"
     ]
    }
   ],
   "source": [
    "x = torch.randn(3, 4)\n",
    "y = torch.zeros_like(x)\n",
    "print(y)"
   ]
  },
  {
   "cell_type": "code",
   "execution_count": 10,
   "id": "5e4c7529",
   "metadata": {},
   "outputs": [
    {
     "name": "stdout",
     "output_type": "stream",
     "text": [
      "tensor([[1., 1., 1., 1.],\n",
      "        [1., 1., 1., 1.],\n",
      "        [1., 1., 1., 1.]])\n"
     ]
    }
   ],
   "source": [
    "x = torch.randn(3, 4)\n",
    "y = torch.ones_like(x)\n",
    "print(y)"
   ]
  },
  {
   "cell_type": "code",
   "execution_count": 11,
   "id": "68017668",
   "metadata": {},
   "outputs": [
    {
     "name": "stdout",
     "output_type": "stream",
     "text": [
      "tensor([[5., 5., 5., 5.],\n",
      "        [5., 5., 5., 5.],\n",
      "        [5., 5., 5., 5.]])\n"
     ]
    }
   ],
   "source": [
    "x = torch.randn(3, 4)\n",
    "y = torch.full_like(x, 5)\n",
    "print(y)"
   ]
  },
  {
   "cell_type": "code",
   "execution_count": 12,
   "id": "e9ffddc7",
   "metadata": {},
   "outputs": [
    {
     "name": "stdout",
     "output_type": "stream",
     "text": [
      "tensor([True, True, True, True])\n"
     ]
    }
   ],
   "source": [
    "x = torch.zeros(3, 4, dtype=torch.bool)\n",
    "y = x.new_tensor([1, 2, 3, 4])\n",
    "print(y)"
   ]
  },
  {
   "cell_type": "code",
   "execution_count": 13,
   "id": "ddde9615",
   "metadata": {},
   "outputs": [
    {
     "name": "stdout",
     "output_type": "stream",
     "text": [
      "tensor([[2., 2., 2., 2., 2.],\n",
      "        [2., 2., 2., 2., 2.],\n",
      "        [2., 2., 2., 2., 2.],\n",
      "        [2., 2., 2., 2., 2.],\n",
      "        [2., 2., 2., 2., 2.]]) torch.Size([5, 5])\n"
     ]
    }
   ],
   "source": [
    "x = torch.ones(5, 1)\n",
    "y = torch.ones(1, 5)\n",
    "z = x + y\n",
    "print(z, z.shape)"
   ]
  },
  {
   "cell_type": "code",
   "execution_count": 14,
   "id": "0afc06c0",
   "metadata": {},
   "outputs": [
    {
     "name": "stdout",
     "output_type": "stream",
     "text": [
      "tensor([[[[[2., 2.]],\n",
      "\n",
      "          [[2., 2.]],\n",
      "\n",
      "          [[2., 2.]]]],\n",
      "\n",
      "\n",
      "\n",
      "        [[[[2., 2.]],\n",
      "\n",
      "          [[2., 2.]],\n",
      "\n",
      "          [[2., 2.]]]]]) torch.Size([2, 1, 3, 1, 2])\n"
     ]
    }
   ],
   "source": [
    "x = torch.ones(1, 1, 1, 1, 1)\n",
    "y = torch.ones(2, 1, 3, 1, 2)\n",
    "z = x + y\n",
    "print(z, z.shape)"
   ]
  },
  {
   "cell_type": "code",
   "execution_count": 15,
   "id": "aad1516e",
   "metadata": {},
   "outputs": [
    {
     "name": "stdout",
     "output_type": "stream",
     "text": [
      "tensor(1.)\n",
      "tensor([[1., 1., 1., 1.],\n",
      "        [1., 1., 1., 1.],\n",
      "        [1., 1., 1., 1.]])\n"
     ]
    }
   ],
   "source": [
    "x = torch.ones(3, 4, 5)\n",
    "print(x.mean())\n",
    "print(x.mean(-1))"
   ]
  },
  {
   "cell_type": "code",
   "execution_count": 16,
   "id": "f910a1a9",
   "metadata": {},
   "outputs": [
    {
     "name": "stdout",
     "output_type": "stream",
     "text": [
      "tensor([[3., 3., 3., 3., 3.],\n",
      "        [3., 3., 3., 3., 3.],\n",
      "        [3., 3., 3., 3., 3.],\n",
      "        [3., 3., 3., 3., 3.]])\n",
      "tensor([20., 20., 20.])\n"
     ]
    }
   ],
   "source": [
    "x = torch.ones(3, 4, 5)\n",
    "print(x.sum(dim=0))\n",
    "print(x.sum(dim=(1, 2)))"
   ]
  },
  {
   "cell_type": "code",
   "execution_count": 17,
   "id": "fd0924c1",
   "metadata": {},
   "outputs": [
    {
     "name": "stdout",
     "output_type": "stream",
     "text": [
      "tensor([20., 20., 20.]) torch.Size([3])\n",
      "tensor([[[20.]],\n",
      "\n",
      "        [[20.]],\n",
      "\n",
      "        [[20.]]]) torch.Size([3, 1, 1])\n"
     ]
    }
   ],
   "source": [
    "x = torch.ones(3, 4, 5)\n",
    "y = x.sum(dim=(1, 2))\n",
    "z = x.sum(dim=(1, 2), keepdim=True)\n",
    "print(y, y.shape)\n",
    "print(z, z.shape)"
   ]
  },
  {
   "cell_type": "code",
   "execution_count": 18,
   "id": "7c257a98",
   "metadata": {},
   "outputs": [
    {
     "name": "stdout",
     "output_type": "stream",
     "text": [
      "tensor([[ 1,  0,  1,  2,  1],\n",
      "        [ 0,  0,  0,  0,  0],\n",
      "        [ 0,  0,  0,  0,  0],\n",
      "        [-1,  1,  0,  0, -1],\n",
      "        [ 0,  0,  1,  1,  0]])\n"
     ]
    }
   ],
   "source": [
    "x = torch.randn(5, 5)\n",
    "print(x.to(torch.long))"
   ]
  },
  {
   "cell_type": "code",
   "execution_count": 19,
   "id": "09c380d2",
   "metadata": {},
   "outputs": [
    {
     "name": "stdout",
     "output_type": "stream",
     "text": [
      "tensor([[ 0.1491,  0.4141],\n",
      "        [-0.3925, -1.9466],\n",
      "        [ 1.4960,  0.1890],\n",
      "        [ 0.6807, -0.3171],\n",
      "        [-0.2654,  1.2928],\n",
      "        [ 0.9997,  2.6678]]) torch.Size([6, 2])\n",
      "tensor([[ 0.1491,  0.4141],\n",
      "        [-0.3925, -1.9466],\n",
      "        [ 1.4960,  0.1890],\n",
      "        [ 0.6807, -0.3171],\n",
      "        [-0.2654,  1.2928],\n",
      "        [ 0.9997,  2.6678]]) torch.Size([6, 2])\n"
     ]
    }
   ],
   "source": [
    "x = torch.randn(2, 3, 2)\n",
    "y = x.view(6, 2)\n",
    "z = x.view(-1, 2)\n",
    "print(y, y.shape)\n",
    "print(z, z.shape)"
   ]
  },
  {
   "cell_type": "code",
   "execution_count": 20,
   "id": "3ffa8638",
   "metadata": {},
   "outputs": [
    {
     "name": "stdout",
     "output_type": "stream",
     "text": [
      "tensor([[[ 5.5403e-02,  1.5386e+00],\n",
      "         [ 1.8293e-01, -1.3662e-01]],\n",
      "\n",
      "        [[-1.6975e+00,  1.4627e-03],\n",
      "         [-5.0618e-01,  7.9265e-01]],\n",
      "\n",
      "        [[-1.4499e-02, -3.9114e-02],\n",
      "         [-3.7062e-01,  1.9404e+00]]]) torch.Size([3, 2, 2])\n"
     ]
    }
   ],
   "source": [
    "x = torch.randn(2, 3, 2)\n",
    "y = x.permute(1, 2, 0)\n",
    "print(y, y.shape)"
   ]
  },
  {
   "cell_type": "code",
   "execution_count": 21,
   "id": "d535db03",
   "metadata": {},
   "outputs": [
    {
     "name": "stdout",
     "output_type": "stream",
     "text": [
      "tensor([[1., 1., 1.],\n",
      "        [1., 1., 1.],\n",
      "        [1., 1., 1.],\n",
      "        [1., 1., 1.]]) torch.Size([4, 3])\n"
     ]
    }
   ],
   "source": [
    "x = torch.ones(2, 3)\n",
    "y = torch.ones(2, 3)\n",
    "z = torch.cat([x, y], dim=0)\n",
    "print(z, z.shape)"
   ]
  },
  {
   "cell_type": "code",
   "execution_count": 22,
   "id": "6c18b03f",
   "metadata": {},
   "outputs": [
    {
     "name": "stdout",
     "output_type": "stream",
     "text": [
      "tensor([[[1., 1., 1.],\n",
      "         [1., 1., 1.]],\n",
      "\n",
      "        [[1., 1., 1.],\n",
      "         [1., 1., 1.]]]) torch.Size([2, 2, 3])\n"
     ]
    }
   ],
   "source": [
    "x = torch.ones(2, 3)\n",
    "y = torch.ones(2, 3)\n",
    "z = torch.stack([x, y], dim=1)\n",
    "print(z, z.shape)"
   ]
  },
  {
   "cell_type": "code",
   "execution_count": 23,
   "id": "125953c1",
   "metadata": {},
   "outputs": [
    {
     "name": "stdout",
     "output_type": "stream",
     "text": [
      "0.0228 sec.\n"
     ]
    }
   ],
   "source": [
    "def add_two_lists(x, y):\n",
    "    z = []\n",
    "    for i, j in zip(x, y):\n",
    "        z.append(i + j)\n",
    "    return z\n",
    "\n",
    "\n",
    "x = torch.ones(5000)\n",
    "y = torch.ones(5000)\n",
    "t1 = time.time()\n",
    "z = add_two_lists(x, y)\n",
    "print(f\"{time.time() - t1:.4f} sec.\")"
   ]
  },
  {
   "cell_type": "code",
   "execution_count": 24,
   "id": "4d16279f",
   "metadata": {},
   "outputs": [
    {
     "name": "stdout",
     "output_type": "stream",
     "text": [
      "0.0019 sec.\n"
     ]
    }
   ],
   "source": [
    "def add_two_lists(x, y):\n",
    "    return x + y\n",
    "\n",
    "\n",
    "x = torch.ones(5000)\n",
    "y = torch.ones(5000)\n",
    "t1 = time.time()\n",
    "z = add_two_lists(x, y)\n",
    "print(f\"{time.time() - t1:.4f} sec.\")"
   ]
  },
  {
   "cell_type": "code",
   "execution_count": 25,
   "id": "2d772b9f",
   "metadata": {},
   "outputs": [
    {
     "name": "stdout",
     "output_type": "stream",
     "text": [
      "tensor([[-0.5711,  1.1077,  1.0282],\n",
      "        [-0.2543,  0.2292,  0.3111],\n",
      "        [ 0.4840, -1.0119,  2.3307]])\n",
      "tensor([[True, True, True],\n",
      "        [True, True, True],\n",
      "        [True, True, True]])\n",
      "tensor([[ 0,  1,  1],\n",
      "        [ 0,  0,  0],\n",
      "        [ 0, -1,  2]])\n"
     ]
    }
   ],
   "source": [
    "x = torch.randn(3, 3)\n",
    "y = torch.zeros(5, 2, dtype=torch.long)\n",
    "print(x.to(torch.float32))\n",
    "print(x.to(torch.bool))\n",
    "print(x.to(y))"
   ]
  },
  {
   "cell_type": "code",
   "execution_count": 29,
   "id": "a92867f0",
   "metadata": {},
   "outputs": [
    {
     "name": "stdout",
     "output_type": "stream",
     "text": [
      "tensor([0, 1, 2, 3, 4, 5, 6, 7])\n",
      "tensor([2, 3, 4, 5, 6, 7])\n",
      "tensor([3, 5, 7, 9])\n"
     ]
    }
   ],
   "source": [
    "x = torch.arange(8)\n",
    "print(x)\n",
    "y = torch.arange(2, 8)\n",
    "print(y)\n",
    "z = torch.arange(3, 10, step=2)\n",
    "print(z)"
   ]
  },
  {
   "cell_type": "code",
   "execution_count": 32,
   "metadata": {},
   "outputs": [
    {
     "name": "stdout",
     "output_type": "stream",
     "text": [
      "tensor([0, 1])\n"
     ]
    }
   ],
   "source": [
    "x = torch.arange(2)\n",
    "print(x)"
   ]
  },
  {
   "cell_type": "code",
   "execution_count": null,
   "metadata": {},
   "outputs": [],
   "source": []
  }
 ],
 "metadata": {
  "jupytext": {
   "cell_markers": "region,endregion"
  },
  "kernelspec": {
   "display_name": "Python 3",
   "language": "python",
   "name": "python3"
  },
  "language_info": {
   "codemirror_mode": {
    "name": "ipython",
    "version": 3
   },
   "file_extension": ".py",
   "mimetype": "text/x-python",
   "name": "python",
   "nbconvert_exporter": "python",
   "pygments_lexer": "ipython3",
   "version": "3.10.12"
  }
 },
 "nbformat": 4,
 "nbformat_minor": 5
}
